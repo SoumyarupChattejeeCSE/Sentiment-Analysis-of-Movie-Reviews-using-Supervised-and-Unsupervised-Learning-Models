{
  "nbformat": 4,
  "nbformat_minor": 0,
  "metadata": {
    "colab": {
      "name": "Supervised Learning models for Sentiment Analysis on IMDB movie dataset .ipynb",
      "provenance": [],
      "collapsed_sections": []
    },
    "kernelspec": {
      "name": "python3",
      "display_name": "Python 3"
    },
    "language_info": {
      "name": "python"
    }
  },
  "cells": [
    {
      "cell_type": "code",
      "execution_count": 1,
      "metadata": {
        "colab": {
          "base_uri": "https://localhost:8080/"
        },
        "id": "nAquQwnvpw1y",
        "outputId": "f4f365e5-8bc9-4ff7-9be5-6627b2bda9b2"
      },
      "outputs": [
        {
          "output_type": "stream",
          "name": "stdout",
          "text": [
            "[nltk_data] Downloading package stopwords to /root/nltk_data...\n",
            "[nltk_data]   Unzipping corpora/stopwords.zip.\n"
          ]
        }
      ],
      "source": [
        "import numpy as np\n",
        "import pandas as pd\n",
        "import nltk\n",
        "nltk.download('stopwords')\n",
        "import matplotlib.pyplot as plt\n",
        "import seaborn as sns\n",
        "from sklearn import naive_bayes\n",
        "from sklearn.model_selection import train_test_split\n",
        "from sklearn.pipeline import Pipeline\n",
        "from sklearn.feature_extraction.text import TfidfVectorizer\n",
        "from sklearn.feature_extraction.text import CountVectorizer\n",
        "from nltk.corpus import stopwords\n",
        "from nltk.stem.porter import PorterStemmer\n",
        "from wordcloud import WordCloud,STOPWORDS\n",
        "from nltk.stem import WordNetLemmatizer\n",
        "from nltk.tokenize import word_tokenize,sent_tokenize\n",
        "from bs4 import BeautifulSoup\n",
        "import spacy\n",
        "import re,string,unicodedata\n",
        "from nltk.tokenize.toktok import ToktokTokenizer\n",
        "from nltk.stem import LancasterStemmer,WordNetLemmatizer\n",
        "from textblob import TextBlob\n",
        "from textblob import Word\n",
        "from sklearn.svm import LinearSVC\n",
        "from sklearn.metrics import (accuracy_score, classification_report,confusion_matrix)\n",
        "from sklearn import metrics\n",
        "from sklearn.metrics import roc_auc_score\n",
        "from sklearn.linear_model import LogisticRegression"
      ]
    },
    {
      "cell_type": "code",
      "source": [
        "#Loading the dataset\n",
        "df=pd.read_csv(\"IMDB Dataset.csv\")\n",
        "print(\"Size of imdb dataset : \",df.shape[0])\n",
        "df.head()"
      ],
      "metadata": {
        "colab": {
          "base_uri": "https://localhost:8080/",
          "height": 223
        },
        "id": "IQb1Qgdqq2T5",
        "outputId": "dbd3359a-d7f4-4dd7-b718-16bad895de91"
      },
      "execution_count": 2,
      "outputs": [
        {
          "output_type": "stream",
          "name": "stdout",
          "text": [
            "Size of imdb dataset :  50000\n"
          ]
        },
        {
          "output_type": "execute_result",
          "data": {
            "text/html": [
              "\n",
              "  <div id=\"df-6775fbcb-e8ff-4e2b-82b2-d3e4102a454e\">\n",
              "    <div class=\"colab-df-container\">\n",
              "      <div>\n",
              "<style scoped>\n",
              "    .dataframe tbody tr th:only-of-type {\n",
              "        vertical-align: middle;\n",
              "    }\n",
              "\n",
              "    .dataframe tbody tr th {\n",
              "        vertical-align: top;\n",
              "    }\n",
              "\n",
              "    .dataframe thead th {\n",
              "        text-align: right;\n",
              "    }\n",
              "</style>\n",
              "<table border=\"1\" class=\"dataframe\">\n",
              "  <thead>\n",
              "    <tr style=\"text-align: right;\">\n",
              "      <th></th>\n",
              "      <th>review</th>\n",
              "      <th>sentiment</th>\n",
              "    </tr>\n",
              "  </thead>\n",
              "  <tbody>\n",
              "    <tr>\n",
              "      <th>0</th>\n",
              "      <td>One of the other reviewers has mentioned that ...</td>\n",
              "      <td>positive</td>\n",
              "    </tr>\n",
              "    <tr>\n",
              "      <th>1</th>\n",
              "      <td>A wonderful little production. &lt;br /&gt;&lt;br /&gt;The...</td>\n",
              "      <td>positive</td>\n",
              "    </tr>\n",
              "    <tr>\n",
              "      <th>2</th>\n",
              "      <td>I thought this was a wonderful way to spend ti...</td>\n",
              "      <td>positive</td>\n",
              "    </tr>\n",
              "    <tr>\n",
              "      <th>3</th>\n",
              "      <td>Basically there's a family where a little boy ...</td>\n",
              "      <td>negative</td>\n",
              "    </tr>\n",
              "    <tr>\n",
              "      <th>4</th>\n",
              "      <td>Petter Mattei's \"Love in the Time of Money\" is...</td>\n",
              "      <td>positive</td>\n",
              "    </tr>\n",
              "  </tbody>\n",
              "</table>\n",
              "</div>\n",
              "      <button class=\"colab-df-convert\" onclick=\"convertToInteractive('df-6775fbcb-e8ff-4e2b-82b2-d3e4102a454e')\"\n",
              "              title=\"Convert this dataframe to an interactive table.\"\n",
              "              style=\"display:none;\">\n",
              "        \n",
              "  <svg xmlns=\"http://www.w3.org/2000/svg\" height=\"24px\"viewBox=\"0 0 24 24\"\n",
              "       width=\"24px\">\n",
              "    <path d=\"M0 0h24v24H0V0z\" fill=\"none\"/>\n",
              "    <path d=\"M18.56 5.44l.94 2.06.94-2.06 2.06-.94-2.06-.94-.94-2.06-.94 2.06-2.06.94zm-11 1L8.5 8.5l.94-2.06 2.06-.94-2.06-.94L8.5 2.5l-.94 2.06-2.06.94zm10 10l.94 2.06.94-2.06 2.06-.94-2.06-.94-.94-2.06-.94 2.06-2.06.94z\"/><path d=\"M17.41 7.96l-1.37-1.37c-.4-.4-.92-.59-1.43-.59-.52 0-1.04.2-1.43.59L10.3 9.45l-7.72 7.72c-.78.78-.78 2.05 0 2.83L4 21.41c.39.39.9.59 1.41.59.51 0 1.02-.2 1.41-.59l7.78-7.78 2.81-2.81c.8-.78.8-2.07 0-2.86zM5.41 20L4 18.59l7.72-7.72 1.47 1.35L5.41 20z\"/>\n",
              "  </svg>\n",
              "      </button>\n",
              "      \n",
              "  <style>\n",
              "    .colab-df-container {\n",
              "      display:flex;\n",
              "      flex-wrap:wrap;\n",
              "      gap: 12px;\n",
              "    }\n",
              "\n",
              "    .colab-df-convert {\n",
              "      background-color: #E8F0FE;\n",
              "      border: none;\n",
              "      border-radius: 50%;\n",
              "      cursor: pointer;\n",
              "      display: none;\n",
              "      fill: #1967D2;\n",
              "      height: 32px;\n",
              "      padding: 0 0 0 0;\n",
              "      width: 32px;\n",
              "    }\n",
              "\n",
              "    .colab-df-convert:hover {\n",
              "      background-color: #E2EBFA;\n",
              "      box-shadow: 0px 1px 2px rgba(60, 64, 67, 0.3), 0px 1px 3px 1px rgba(60, 64, 67, 0.15);\n",
              "      fill: #174EA6;\n",
              "    }\n",
              "\n",
              "    [theme=dark] .colab-df-convert {\n",
              "      background-color: #3B4455;\n",
              "      fill: #D2E3FC;\n",
              "    }\n",
              "\n",
              "    [theme=dark] .colab-df-convert:hover {\n",
              "      background-color: #434B5C;\n",
              "      box-shadow: 0px 1px 3px 1px rgba(0, 0, 0, 0.15);\n",
              "      filter: drop-shadow(0px 1px 2px rgba(0, 0, 0, 0.3));\n",
              "      fill: #FFFFFF;\n",
              "    }\n",
              "  </style>\n",
              "\n",
              "      <script>\n",
              "        const buttonEl =\n",
              "          document.querySelector('#df-6775fbcb-e8ff-4e2b-82b2-d3e4102a454e button.colab-df-convert');\n",
              "        buttonEl.style.display =\n",
              "          google.colab.kernel.accessAllowed ? 'block' : 'none';\n",
              "\n",
              "        async function convertToInteractive(key) {\n",
              "          const element = document.querySelector('#df-6775fbcb-e8ff-4e2b-82b2-d3e4102a454e');\n",
              "          const dataTable =\n",
              "            await google.colab.kernel.invokeFunction('convertToInteractive',\n",
              "                                                     [key], {});\n",
              "          if (!dataTable) return;\n",
              "\n",
              "          const docLinkHtml = 'Like what you see? Visit the ' +\n",
              "            '<a target=\"_blank\" href=https://colab.research.google.com/notebooks/data_table.ipynb>data table notebook</a>'\n",
              "            + ' to learn more about interactive tables.';\n",
              "          element.innerHTML = '';\n",
              "          dataTable['output_type'] = 'display_data';\n",
              "          await google.colab.output.renderOutput(dataTable, element);\n",
              "          const docLink = document.createElement('div');\n",
              "          docLink.innerHTML = docLinkHtml;\n",
              "          element.appendChild(docLink);\n",
              "        }\n",
              "      </script>\n",
              "    </div>\n",
              "  </div>\n",
              "  "
            ],
            "text/plain": [
              "                                              review sentiment\n",
              "0  One of the other reviewers has mentioned that ...  positive\n",
              "1  A wonderful little production. <br /><br />The...  positive\n",
              "2  I thought this was a wonderful way to spend ti...  positive\n",
              "3  Basically there's a family where a little boy ...  negative\n",
              "4  Petter Mattei's \"Love in the Time of Money\" is...  positive"
            ]
          },
          "metadata": {},
          "execution_count": 2
        }
      ]
    },
    {
      "cell_type": "code",
      "source": [
        "df.tail()"
      ],
      "metadata": {
        "colab": {
          "base_uri": "https://localhost:8080/",
          "height": 206
        },
        "id": "I7qYKz4uq5As",
        "outputId": "f10f3c64-1b9c-456e-9176-4c81408ca454"
      },
      "execution_count": 3,
      "outputs": [
        {
          "output_type": "execute_result",
          "data": {
            "text/html": [
              "\n",
              "  <div id=\"df-75abf144-5fd7-4c60-b055-dfa87e10f57d\">\n",
              "    <div class=\"colab-df-container\">\n",
              "      <div>\n",
              "<style scoped>\n",
              "    .dataframe tbody tr th:only-of-type {\n",
              "        vertical-align: middle;\n",
              "    }\n",
              "\n",
              "    .dataframe tbody tr th {\n",
              "        vertical-align: top;\n",
              "    }\n",
              "\n",
              "    .dataframe thead th {\n",
              "        text-align: right;\n",
              "    }\n",
              "</style>\n",
              "<table border=\"1\" class=\"dataframe\">\n",
              "  <thead>\n",
              "    <tr style=\"text-align: right;\">\n",
              "      <th></th>\n",
              "      <th>review</th>\n",
              "      <th>sentiment</th>\n",
              "    </tr>\n",
              "  </thead>\n",
              "  <tbody>\n",
              "    <tr>\n",
              "      <th>49995</th>\n",
              "      <td>I thought this movie did a down right good job...</td>\n",
              "      <td>positive</td>\n",
              "    </tr>\n",
              "    <tr>\n",
              "      <th>49996</th>\n",
              "      <td>Bad plot, bad dialogue, bad acting, idiotic di...</td>\n",
              "      <td>negative</td>\n",
              "    </tr>\n",
              "    <tr>\n",
              "      <th>49997</th>\n",
              "      <td>I am a Catholic taught in parochial elementary...</td>\n",
              "      <td>negative</td>\n",
              "    </tr>\n",
              "    <tr>\n",
              "      <th>49998</th>\n",
              "      <td>I'm going to have to disagree with the previou...</td>\n",
              "      <td>negative</td>\n",
              "    </tr>\n",
              "    <tr>\n",
              "      <th>49999</th>\n",
              "      <td>No one expects the Star Trek movies to be high...</td>\n",
              "      <td>negative</td>\n",
              "    </tr>\n",
              "  </tbody>\n",
              "</table>\n",
              "</div>\n",
              "      <button class=\"colab-df-convert\" onclick=\"convertToInteractive('df-75abf144-5fd7-4c60-b055-dfa87e10f57d')\"\n",
              "              title=\"Convert this dataframe to an interactive table.\"\n",
              "              style=\"display:none;\">\n",
              "        \n",
              "  <svg xmlns=\"http://www.w3.org/2000/svg\" height=\"24px\"viewBox=\"0 0 24 24\"\n",
              "       width=\"24px\">\n",
              "    <path d=\"M0 0h24v24H0V0z\" fill=\"none\"/>\n",
              "    <path d=\"M18.56 5.44l.94 2.06.94-2.06 2.06-.94-2.06-.94-.94-2.06-.94 2.06-2.06.94zm-11 1L8.5 8.5l.94-2.06 2.06-.94-2.06-.94L8.5 2.5l-.94 2.06-2.06.94zm10 10l.94 2.06.94-2.06 2.06-.94-2.06-.94-.94-2.06-.94 2.06-2.06.94z\"/><path d=\"M17.41 7.96l-1.37-1.37c-.4-.4-.92-.59-1.43-.59-.52 0-1.04.2-1.43.59L10.3 9.45l-7.72 7.72c-.78.78-.78 2.05 0 2.83L4 21.41c.39.39.9.59 1.41.59.51 0 1.02-.2 1.41-.59l7.78-7.78 2.81-2.81c.8-.78.8-2.07 0-2.86zM5.41 20L4 18.59l7.72-7.72 1.47 1.35L5.41 20z\"/>\n",
              "  </svg>\n",
              "      </button>\n",
              "      \n",
              "  <style>\n",
              "    .colab-df-container {\n",
              "      display:flex;\n",
              "      flex-wrap:wrap;\n",
              "      gap: 12px;\n",
              "    }\n",
              "\n",
              "    .colab-df-convert {\n",
              "      background-color: #E8F0FE;\n",
              "      border: none;\n",
              "      border-radius: 50%;\n",
              "      cursor: pointer;\n",
              "      display: none;\n",
              "      fill: #1967D2;\n",
              "      height: 32px;\n",
              "      padding: 0 0 0 0;\n",
              "      width: 32px;\n",
              "    }\n",
              "\n",
              "    .colab-df-convert:hover {\n",
              "      background-color: #E2EBFA;\n",
              "      box-shadow: 0px 1px 2px rgba(60, 64, 67, 0.3), 0px 1px 3px 1px rgba(60, 64, 67, 0.15);\n",
              "      fill: #174EA6;\n",
              "    }\n",
              "\n",
              "    [theme=dark] .colab-df-convert {\n",
              "      background-color: #3B4455;\n",
              "      fill: #D2E3FC;\n",
              "    }\n",
              "\n",
              "    [theme=dark] .colab-df-convert:hover {\n",
              "      background-color: #434B5C;\n",
              "      box-shadow: 0px 1px 3px 1px rgba(0, 0, 0, 0.15);\n",
              "      filter: drop-shadow(0px 1px 2px rgba(0, 0, 0, 0.3));\n",
              "      fill: #FFFFFF;\n",
              "    }\n",
              "  </style>\n",
              "\n",
              "      <script>\n",
              "        const buttonEl =\n",
              "          document.querySelector('#df-75abf144-5fd7-4c60-b055-dfa87e10f57d button.colab-df-convert');\n",
              "        buttonEl.style.display =\n",
              "          google.colab.kernel.accessAllowed ? 'block' : 'none';\n",
              "\n",
              "        async function convertToInteractive(key) {\n",
              "          const element = document.querySelector('#df-75abf144-5fd7-4c60-b055-dfa87e10f57d');\n",
              "          const dataTable =\n",
              "            await google.colab.kernel.invokeFunction('convertToInteractive',\n",
              "                                                     [key], {});\n",
              "          if (!dataTable) return;\n",
              "\n",
              "          const docLinkHtml = 'Like what you see? Visit the ' +\n",
              "            '<a target=\"_blank\" href=https://colab.research.google.com/notebooks/data_table.ipynb>data table notebook</a>'\n",
              "            + ' to learn more about interactive tables.';\n",
              "          element.innerHTML = '';\n",
              "          dataTable['output_type'] = 'display_data';\n",
              "          await google.colab.output.renderOutput(dataTable, element);\n",
              "          const docLink = document.createElement('div');\n",
              "          docLink.innerHTML = docLinkHtml;\n",
              "          element.appendChild(docLink);\n",
              "        }\n",
              "      </script>\n",
              "    </div>\n",
              "  </div>\n",
              "  "
            ],
            "text/plain": [
              "                                                  review sentiment\n",
              "49995  I thought this movie did a down right good job...  positive\n",
              "49996  Bad plot, bad dialogue, bad acting, idiotic di...  negative\n",
              "49997  I am a Catholic taught in parochial elementary...  negative\n",
              "49998  I'm going to have to disagree with the previou...  negative\n",
              "49999  No one expects the Star Trek movies to be high...  negative"
            ]
          },
          "metadata": {},
          "execution_count": 3
        }
      ]
    },
    {
      "cell_type": "markdown",
      "source": [
        "##**Data Preprocessing and Text Normalization** "
      ],
      "metadata": {
        "id": "dHjhY-USA2Sl"
      }
    },
    {
      "cell_type": "code",
      "source": [
        "#Preprocessing of reviews\n",
        "blank = []\n",
        "for i,rv,lb in df.itertuples():\n",
        "    if rv.isspace():\n",
        "        blank.append(i)\n",
        "        \n",
        "#Removing the html strips\n",
        "def strip_html(text):\n",
        "    soup = BeautifulSoup(text, \"html.parser\")\n",
        "    return soup.get_text()\n",
        "\n",
        "#Removing the square brackets\n",
        "def remove_between_square_brackets(text):\n",
        "    return re.sub('\\[[^]]*\\]', '', text)\n",
        "\n",
        "#Stemming the text\n",
        "def simple_stemmer(text):\n",
        "    ps=nltk.porter.PorterStemmer()\n",
        "    text= ' '.join([ps.stem(word) for word in text.split()])\n",
        "    return text\n",
        "    \n",
        "#set stopwords to english\n",
        "stop=set(stopwords.words('english'))\n",
        "print(stop)\n",
        "\n",
        "#Tokenization of text\n",
        "tokenizer=ToktokTokenizer()\n",
        "#Setting English stopwords\n",
        "stopword_list=nltk.corpus.stopwords.words('english')\n",
        "\n",
        "#removing special characters\n",
        "def remove_special_character(text):\n",
        "    text = re.sub('[^a-zA-z0-9\\s]', '', text)\n",
        "    return text\n",
        "\n",
        "#removing the stopwords\n",
        "def remove_stopwords(text, is_lower_case=False):\n",
        "    tokens = tokenizer.tokenize(text)\n",
        "    tokens = [token.strip() for token in tokens]\n",
        "    if is_lower_case:\n",
        "        filtered_tokens = [token for token in tokens if token not in stopword_list]\n",
        "    else:\n",
        "        filtered_tokens = [token for token in tokens if token.lower() not in stopword_list]\n",
        "    filtered_text = ' '.join(filtered_tokens)    \n",
        "    return filtered_text\n",
        "\n",
        "#Apply function on review column\n",
        "df['review']=df['review'].apply(strip_html)\n",
        "df['review']=df['review'].apply(remove_between_square_brackets)\n",
        "df['review']=df['review'].apply(remove_special_character)\n",
        "df['review']=df['review'].apply(remove_stopwords)\n",
        "df['review']=df['review'].apply(simple_stemmer)\n",
        "\n",
        "print(df.review)"
      ],
      "metadata": {
        "colab": {
          "base_uri": "https://localhost:8080/"
        },
        "id": "CGHDcjJUrBRE",
        "outputId": "e8fcd46f-a5e2-4c46-bf8c-5940ede39b54"
      },
      "execution_count": 4,
      "outputs": [
        {
          "output_type": "stream",
          "name": "stdout",
          "text": [
            "{\"you'll\", 'ours', \"won't\", 'itself', 'didn', 'were', 'each', 'i', 'is', 'some', 'above', \"wouldn't\", 'how', 'had', 'whom', 'himself', \"mightn't\", 'do', \"you're\", 'should', 'the', \"hasn't\", 'such', \"don't\", 'be', 'hasn', 'needn', 'or', 'are', 'y', 'did', \"isn't\", \"didn't\", 'yourself', 'and', 'after', \"aren't\", 'doing', 'now', 'between', 'for', 'we', 'a', 'about', 'if', 'their', \"she's\", \"you've\", 'other', 'over', \"doesn't\", 'too', 'weren', 'nor', 'me', 'herself', 'isn', 'what', 've', 'themselves', \"it's\", 'because', 'your', 'until', \"wasn't\", 'ma', 'o', 'here', 'been', \"mustn't\", 'll', 'with', 'theirs', 'shouldn', 'on', 'down', 'don', 'these', 'both', 'wasn', 'up', 'hadn', 'during', 'when', 'then', 'as', 'where', 'to', 'those', 'our', 'into', 'his', 'again', \"needn't\", \"weren't\", 'yours', 'you', 'will', 's', 'does', 't', 'won', \"that'll\", 'them', 'aren', 'couldn', 'but', 'haven', 'from', 'my', 'its', 'more', 'hers', 'wouldn', 'an', 'by', 'same', \"you'd\", 'which', 'can', 'am', 'was', \"should've\", 'her', 'mustn', 'm', 'having', 'this', 'ourselves', 'why', 'out', 'it', 'once', 'very', \"hadn't\", 're', 'so', 'yourselves', 'in', 'no', 'that', 'being', 'while', 'any', 'all', 'further', 'just', 'not', 'below', \"shouldn't\", 'at', 'doesn', 'd', 'ain', 'through', 'they', 'has', 'off', 'than', 'own', 'have', 'few', 'before', \"couldn't\", \"haven't\", 'he', 'him', 'mightn', 'shan', 'of', \"shan't\", 'there', 'only', 'she', 'myself', 'most', 'under', 'who', 'against'}\n",
            "0        one review mention watch 1 Oz episod youll hoo...\n",
            "1        wonder littl product film techniqu unassum old...\n",
            "2        thought wonder way spend time hot summer weeke...\n",
            "3        basic there famili littl boy jake think there ...\n",
            "4        petter mattei love time money visual stun film...\n",
            "                               ...                        \n",
            "49995    thought movi right good job wasnt creativ orig...\n",
            "49996    bad plot bad dialogu bad act idiot direct anno...\n",
            "49997    cathol taught parochi elementari school nun ta...\n",
            "49998    Im go disagre previou comment side maltin one ...\n",
            "49999    one expect star trek movi high art fan expect ...\n",
            "Name: review, Length: 50000, dtype: object\n"
          ]
        }
      ]
    },
    {
      "cell_type": "markdown",
      "source": [
        "## **Mulitnomial Naive Bayes Classifier**"
      ],
      "metadata": {
        "id": "VbdRAUNirCn-"
      }
    },
    {
      "cell_type": "code",
      "source": [
        "#TF_IDF_VECTOR_MODEL\n",
        "print(stop)\n",
        "vectorizer=TfidfVectorizer(use_idf=True,lowercase=True,strip_accents='ascii',stop_words=stop)"
      ],
      "metadata": {
        "colab": {
          "base_uri": "https://localhost:8080/"
        },
        "id": "eY03PEBOrHhE",
        "outputId": "ad3cc8fc-a8f2-45bf-f239-c2048f73e283"
      },
      "execution_count": 5,
      "outputs": [
        {
          "output_type": "stream",
          "name": "stdout",
          "text": [
            "{\"you'll\", 'ours', \"won't\", 'itself', 'didn', 'were', 'each', 'i', 'is', 'some', 'above', \"wouldn't\", 'how', 'had', 'whom', 'himself', \"mightn't\", 'do', \"you're\", 'should', 'the', \"hasn't\", 'such', \"don't\", 'be', 'hasn', 'needn', 'or', 'are', 'y', 'did', \"isn't\", \"didn't\", 'yourself', 'and', 'after', \"aren't\", 'doing', 'now', 'between', 'for', 'we', 'a', 'about', 'if', 'their', \"she's\", \"you've\", 'other', 'over', \"doesn't\", 'too', 'weren', 'nor', 'me', 'herself', 'isn', 'what', 've', 'themselves', \"it's\", 'because', 'your', 'until', \"wasn't\", 'ma', 'o', 'here', 'been', \"mustn't\", 'll', 'with', 'theirs', 'shouldn', 'on', 'down', 'don', 'these', 'both', 'wasn', 'up', 'hadn', 'during', 'when', 'then', 'as', 'where', 'to', 'those', 'our', 'into', 'his', 'again', \"needn't\", \"weren't\", 'yours', 'you', 'will', 's', 'does', 't', 'won', \"that'll\", 'them', 'aren', 'couldn', 'but', 'haven', 'from', 'my', 'its', 'more', 'hers', 'wouldn', 'an', 'by', 'same', \"you'd\", 'which', 'can', 'am', 'was', \"should've\", 'her', 'mustn', 'm', 'having', 'this', 'ourselves', 'why', 'out', 'it', 'once', 'very', \"hadn't\", 're', 'so', 'yourselves', 'in', 'no', 'that', 'being', 'while', 'any', 'all', 'further', 'just', 'not', 'below', \"shouldn't\", 'at', 'doesn', 'd', 'ain', 'through', 'they', 'has', 'off', 'than', 'own', 'have', 'few', 'before', \"couldn't\", \"haven't\", 'he', 'him', 'mightn', 'shan', 'of', \"shan't\", 'there', 'only', 'she', 'myself', 'most', 'under', 'who', 'against'}\n"
          ]
        }
      ]
    },
    {
      "cell_type": "code",
      "source": [
        "#Dependent variable\n",
        "Y=df.sentiment\n",
        "#Converting df.text from text to features using TF-IDF word embedding model\n",
        "X=vectorizer.fit_transform(df.review)"
      ],
      "metadata": {
        "id": "K3JFNV_3rRT6"
      },
      "execution_count": 6,
      "outputs": []
    },
    {
      "cell_type": "code",
      "source": [
        "#Splitting data into train and test data set\n",
        "X_train,X_test,Y_train,Y_test=train_test_split(X,Y,test_size=0.3,random_state=42)\n",
        "\n",
        "print(\"Size of training dataset : \",(X_train.shape[0]))\n",
        "print(\"Size of testing dataset : \",(X_test.shape[0]))"
      ],
      "metadata": {
        "colab": {
          "base_uri": "https://localhost:8080/"
        },
        "id": "73xvPpTDreWh",
        "outputId": "56793c8b-64b1-4fab-9998-b6ab11d70202"
      },
      "execution_count": 7,
      "outputs": [
        {
          "output_type": "stream",
          "name": "stdout",
          "text": [
            "Size of training dataset :  35000\n",
            "Size of testing dataset :  15000\n"
          ]
        }
      ]
    },
    {
      "cell_type": "code",
      "source": [
        "#Training dataset based on Multinomial_Naive_Bayes_Classifier model\n",
        "model=naive_bayes.MultinomialNB()\n",
        "model.fit(X_train,Y_train)"
      ],
      "metadata": {
        "colab": {
          "base_uri": "https://localhost:8080/"
        },
        "id": "tu82_pszrnp9",
        "outputId": "5bcd12d3-1d1f-4ef3-a261-d4310977924c"
      },
      "execution_count": 8,
      "outputs": [
        {
          "output_type": "execute_result",
          "data": {
            "text/plain": [
              "MultinomialNB()"
            ]
          },
          "metadata": {},
          "execution_count": 8
        }
      ]
    },
    {
      "cell_type": "code",
      "source": [
        "#Training score of our training model\n",
        "model.score(X_train,Y_train)"
      ],
      "metadata": {
        "colab": {
          "base_uri": "https://localhost:8080/"
        },
        "id": "g7fLkB5asGU8",
        "outputId": "96dbce20-39f7-48c3-a287-f05ad8b0eef5"
      },
      "execution_count": 9,
      "outputs": [
        {
          "output_type": "execute_result",
          "data": {
            "text/plain": [
              "0.9130571428571429"
            ]
          },
          "metadata": {},
          "execution_count": 9
        }
      ]
    },
    {
      "cell_type": "code",
      "source": [
        "#Testing our model with some basic examnples\n",
        "new_review=np.array([\"The Matrix Trilogy is a fantastic movie .\"])\n",
        "new_review_vector=vectorizer.transform(new_review)\n",
        "print(model.predict(new_review_vector))"
      ],
      "metadata": {
        "colab": {
          "base_uri": "https://localhost:8080/"
        },
        "id": "CMMnLe9MsNIN",
        "outputId": "ce37e5b0-4c6f-413c-a485-17723047169c"
      },
      "execution_count": 10,
      "outputs": [
        {
          "output_type": "stream",
          "name": "stdout",
          "text": [
            "['positive']\n"
          ]
        }
      ]
    },
    {
      "cell_type": "code",
      "source": [
        "#Testing our model with some basic examples\n",
        "new_review=np.array([\"The Eternals is the worst Marvel movie I have ever seen.\"])\n",
        "new_review_vector=vectorizer.transform(new_review)\n",
        "print(model.predict(new_review_vector))"
      ],
      "metadata": {
        "colab": {
          "base_uri": "https://localhost:8080/"
        },
        "id": "1zpBeWSAseox",
        "outputId": "10908c45-8fc1-49d3-caa9-4888376d91cf"
      },
      "execution_count": 11,
      "outputs": [
        {
          "output_type": "stream",
          "name": "stdout",
          "text": [
            "['negative']\n"
          ]
        }
      ]
    },
    {
      "cell_type": "code",
      "source": [
        "#Predict sentiments of test data using our trained model:\n",
        "prediction_test = model.predict(X_test)\n",
        "print(prediction_test)"
      ],
      "metadata": {
        "colab": {
          "base_uri": "https://localhost:8080/"
        },
        "id": "jegKxwqVsnZn",
        "outputId": "d94deed5-12eb-4c08-ab0e-73b6948ca946"
      },
      "execution_count": 12,
      "outputs": [
        {
          "output_type": "stream",
          "name": "stdout",
          "text": [
            "['positive' 'positive' 'negative' ... 'negative' 'positive' 'positive']\n"
          ]
        }
      ]
    },
    {
      "cell_type": "code",
      "source": [
        "#Confusion matrix\n",
        "print(\"Confusion Matrix:\")\n",
        "mat=confusion_matrix(Y_test, prediction_test)\n",
        "\n",
        "group_names = ['True Neg','False Pos','False Neg','True Pos']\n",
        "group_counts = [\"{0:0.0f}\".format(value) for value in mat.flatten()]\n",
        "group_percentages = [\"{0:.2%}\".format(value) for value in mat.flatten()/np.sum(mat)]\n",
        "labels = [f\"{v1}\\n{v2}\\n{v3}\" for v1, v2, v3 in zip(group_names,group_counts,group_percentages)]\n",
        "labels = np.asarray(labels).reshape(2,2)\n",
        "sns.heatmap(mat, annot=labels, fmt='', cmap='Blues')"
      ],
      "metadata": {
        "colab": {
          "base_uri": "https://localhost:8080/",
          "height": 300
        },
        "id": "uzuVvR9fsxcy",
        "outputId": "d4c49a53-d02f-4ddc-f5ac-1c5aa5662369"
      },
      "execution_count": 13,
      "outputs": [
        {
          "output_type": "stream",
          "name": "stdout",
          "text": [
            "Confusion Matrix:\n"
          ]
        },
        {
          "output_type": "execute_result",
          "data": {
            "text/plain": [
              "<matplotlib.axes._subplots.AxesSubplot at 0x7f037f2a0350>"
            ]
          },
          "metadata": {},
          "execution_count": 13
        },
        {
          "output_type": "display_data",
          "data": {
            "image/png": "[encoded data removed]",
            "text/plain": [
              "<Figure size 432x288 with 2 Axes>"
            ]
          },
          "metadata": {
            "needs_background": "light"
          }
        }
      ]
    },
    {
      "cell_type": "code",
      "source": [
        "#Parameters for testing the performance of our model:\n",
        "print(\"Classification report :\")\n",
        "print(classification_report(Y_test, prediction_test))"
      ],
      "metadata": {
        "colab": {
          "base_uri": "https://localhost:8080/"
        },
        "id": "3A0RsnJrs0Rp",
        "outputId": "993cd8d9-8cab-4256-e21d-a4bee52b8af3"
      },
      "execution_count": 14,
      "outputs": [
        {
          "output_type": "stream",
          "name": "stdout",
          "text": [
            "Classification report :\n",
            "              precision    recall  f1-score   support\n",
            "\n",
            "    negative       0.84      0.88      0.86      7411\n",
            "    positive       0.88      0.84      0.86      7589\n",
            "\n",
            "    accuracy                           0.86     15000\n",
            "   macro avg       0.86      0.86      0.86     15000\n",
            "weighted avg       0.86      0.86      0.86     15000\n",
            "\n"
          ]
        }
      ]
    },
    {
      "cell_type": "code",
      "source": [
        "#Accuracy or Testing score of our model\n",
        "print(metrics.accuracy_score(Y_test,prediction_test))"
      ],
      "metadata": {
        "colab": {
          "base_uri": "https://localhost:8080/"
        },
        "id": "nYOeg52I4Nyo",
        "outputId": "cf5f4c0b-e643-42b1-da82-c7fcbdbbe939"
      },
      "execution_count": 15,
      "outputs": [
        {
          "output_type": "stream",
          "name": "stdout",
          "text": [
            "0.8590666666666666\n"
          ]
        }
      ]
    },
    {
      "cell_type": "markdown",
      "source": [
        "## **SVM (Support Vector Machine)**"
      ],
      "metadata": {
        "id": "7t2ouHHqs-A7"
      }
    },
    {
      "cell_type": "code",
      "source": [
        "#Dependent variable :\n",
        "Y=df.sentiment\n",
        "#Independent variable\n",
        "X=df.review\n",
        "\n",
        "#Split data into train and test data set\n",
        "X_train,X_test,Y_train,Y_test=train_test_split(X,Y,test_size=0.3,random_state=42)\n",
        "print(\"Size of trainining dataset : \",(X_train.shape[0]))\n",
        "print(\"Size of testing dataset : \",(X_test.shape[0]))"
      ],
      "metadata": {
        "colab": {
          "base_uri": "https://localhost:8080/"
        },
        "id": "ncuP0UcptCif",
        "outputId": "448eb598-1f5d-4101-eef7-d2d21545e498"
      },
      "execution_count": 16,
      "outputs": [
        {
          "output_type": "stream",
          "name": "stdout",
          "text": [
            "Size of trainining dataset :  35000\n",
            "Size of testing dataset :  15000\n"
          ]
        }
      ]
    },
    {
      "cell_type": "code",
      "source": [
        "#Training dataset based on SVM:\n",
        "model = Pipeline([('tfidf',TfidfVectorizer()),('lsvc',LinearSVC())])\n",
        "model.fit(X_train,Y_train)"
      ],
      "metadata": {
        "colab": {
          "base_uri": "https://localhost:8080/"
        },
        "id": "tqIVowBFvPpj",
        "outputId": "e86ab122-d3e1-4d9b-a7bb-6d6a9e19fd33"
      },
      "execution_count": 17,
      "outputs": [
        {
          "output_type": "execute_result",
          "data": {
            "text/plain": [
              "Pipeline(steps=[('tfidf', TfidfVectorizer()), ('lsvc', LinearSVC())])"
            ]
          },
          "metadata": {},
          "execution_count": 17
        }
      ]
    },
    {
      "cell_type": "code",
      "source": [
        "#Training score of our model:\n",
        "model.score(X_train,Y_train)"
      ],
      "metadata": {
        "colab": {
          "base_uri": "https://localhost:8080/"
        },
        "id": "HYM5f6cZvSIM",
        "outputId": "6da9df52-dbf9-4600-c178-cc5c46f767d8"
      },
      "execution_count": 18,
      "outputs": [
        {
          "output_type": "execute_result",
          "data": {
            "text/plain": [
              "0.9876857142857143"
            ]
          },
          "metadata": {},
          "execution_count": 18
        }
      ]
    },
    {
      "cell_type": "code",
      "source": [
        "#Testing our model with some basic examples\n",
        "new_review=np.array([\"Marvel's Eternal is one of the worst movie which I have ever seen.\"])\n",
        "new_review_vector=np.reshape(new_review,-1)\n",
        "print(model.predict(new_review_vector))"
      ],
      "metadata": {
        "colab": {
          "base_uri": "https://localhost:8080/"
        },
        "id": "Sqm4N1vgvUa3",
        "outputId": "2a031adc-34f9-476d-e2ba-b893ba226b29"
      },
      "execution_count": 19,
      "outputs": [
        {
          "output_type": "stream",
          "name": "stdout",
          "text": [
            "['negative']\n"
          ]
        }
      ]
    },
    {
      "cell_type": "code",
      "source": [
        "#Testing our model with some basic examples\n",
        "new_review=np.array([\"Last night I saw a wonderful movie named John Wick.\"])\n",
        "new_review_vector=np.reshape(new_review,-1)\n",
        "print(model.predict(new_review_vector))"
      ],
      "metadata": {
        "colab": {
          "base_uri": "https://localhost:8080/"
        },
        "id": "9SnM_3lAvXQf",
        "outputId": "c6f57b78-9bab-4b94-b7db-d552567260a7"
      },
      "execution_count": 20,
      "outputs": [
        {
          "output_type": "stream",
          "name": "stdout",
          "text": [
            "['positive']\n"
          ]
        }
      ]
    },
    {
      "cell_type": "code",
      "source": [
        "#Predict sentiments of test data using our trained model:\n",
        "prediction_test = model.predict(X_test)\n",
        "print(prediction_test)"
      ],
      "metadata": {
        "colab": {
          "base_uri": "https://localhost:8080/"
        },
        "id": "CNvHGst3vZsu",
        "outputId": "dc8d797b-9297-4f0e-c38e-481ac6650253"
      },
      "execution_count": 21,
      "outputs": [
        {
          "output_type": "stream",
          "name": "stdout",
          "text": [
            "['negative' 'positive' 'negative' ... 'negative' 'positive' 'positive']\n"
          ]
        }
      ]
    },
    {
      "cell_type": "code",
      "source": [
        "#Confusion matrix\n",
        "print(\"Confusion Matrix:\")\n",
        "mat=confusion_matrix(Y_test, prediction_test)\n",
        "\n",
        "group_names = ['True Neg','False Pos','False Neg','True Pos']\n",
        "group_counts = [\"{0:0.0f}\".format(value) for value in mat.flatten()]\n",
        "group_percentages = [\"{0:.2%}\".format(value) for value in mat.flatten()/np.sum(mat)]\n",
        "labels = [f\"{v1}\\n{v2}\\n{v3}\" for v1, v2, v3 in zip(group_names,group_counts,group_percentages)]\n",
        "labels = np.asarray(labels).reshape(2,2)\n",
        "sns.heatmap(mat, annot=labels, fmt='', cmap='Blues')"
      ],
      "metadata": {
        "colab": {
          "base_uri": "https://localhost:8080/",
          "height": 300
        },
        "id": "bS1HsSNSvbri",
        "outputId": "e02547de-7f77-48d0-c3f3-450bdcf6856f"
      },
      "execution_count": 22,
      "outputs": [
        {
          "output_type": "stream",
          "name": "stdout",
          "text": [
            "Confusion Matrix:\n"
          ]
        },
        {
          "output_type": "execute_result",
          "data": {
            "text/plain": [
              "<matplotlib.axes._subplots.AxesSubplot at 0x7f037b31a850>"
            ]
          },
          "metadata": {},
          "execution_count": 22
        },
        {
          "output_type": "display_data",
          "data": {
            "image/png": "[encoded data removed]",
            "text/plain": [
              "<Figure size 432x288 with 2 Axes>"
            ]
          },
          "metadata": {
            "needs_background": "light"
          }
        }
      ]
    },
    {
      "cell_type": "code",
      "source": [
        "#Parameters for testing the performance of our model:\n",
        "print(\"Classification report :\")\n",
        "print(classification_report(Y_test,prediction_test))"
      ],
      "metadata": {
        "colab": {
          "base_uri": "https://localhost:8080/"
        },
        "id": "t2nxe-2yveFz",
        "outputId": "a7fffc71-d13f-4daf-be17-50c4d96a9d36"
      },
      "execution_count": 23,
      "outputs": [
        {
          "output_type": "stream",
          "name": "stdout",
          "text": [
            "Classification report :\n",
            "              precision    recall  f1-score   support\n",
            "\n",
            "    negative       0.90      0.88      0.89      7411\n",
            "    positive       0.89      0.90      0.89      7589\n",
            "\n",
            "    accuracy                           0.89     15000\n",
            "   macro avg       0.89      0.89      0.89     15000\n",
            "weighted avg       0.89      0.89      0.89     15000\n",
            "\n"
          ]
        }
      ]
    },
    {
      "cell_type": "code",
      "source": [
        "#Accuracy or Testing score of our model\n",
        "print(metrics.accuracy_score(Y_test,prediction_test))"
      ],
      "metadata": {
        "colab": {
          "base_uri": "https://localhost:8080/"
        },
        "id": "MgsBbB8mvgZD",
        "outputId": "56a858fd-e766-4be0-f763-879c58c2af0f"
      },
      "execution_count": 24,
      "outputs": [
        {
          "output_type": "stream",
          "name": "stdout",
          "text": [
            "0.8924666666666666\n"
          ]
        }
      ]
    },
    {
      "cell_type": "markdown",
      "source": [
        "## **Logistic Regression**"
      ],
      "metadata": {
        "id": "okTvu1YOlRTb"
      }
    },
    {
      "cell_type": "code",
      "source": [
        "#TF_IDF_VECTOR_MODEL\n",
        "print(stop)\n",
        "vectorizer=TfidfVectorizer(use_idf=True,lowercase=True,strip_accents='ascii',stop_words=stop)"
      ],
      "metadata": {
        "id": "a-kRHWVzlP8l",
        "colab": {
          "base_uri": "https://localhost:8080/"
        },
        "outputId": "c1932119-e849-4983-9a52-0924b8d5e787"
      },
      "execution_count": 25,
      "outputs": [
        {
          "output_type": "stream",
          "name": "stdout",
          "text": [
            "{\"you'll\", 'ours', \"won't\", 'itself', 'didn', 'were', 'each', 'i', 'is', 'some', 'above', \"wouldn't\", 'how', 'had', 'whom', 'himself', \"mightn't\", 'do', \"you're\", 'should', 'the', \"hasn't\", 'such', \"don't\", 'be', 'hasn', 'needn', 'or', 'are', 'y', 'did', \"isn't\", \"didn't\", 'yourself', 'and', 'after', \"aren't\", 'doing', 'now', 'between', 'for', 'we', 'a', 'about', 'if', 'their', \"she's\", \"you've\", 'other', 'over', \"doesn't\", 'too', 'weren', 'nor', 'me', 'herself', 'isn', 'what', 've', 'themselves', \"it's\", 'because', 'your', 'until', \"wasn't\", 'ma', 'o', 'here', 'been', \"mustn't\", 'll', 'with', 'theirs', 'shouldn', 'on', 'down', 'don', 'these', 'both', 'wasn', 'up', 'hadn', 'during', 'when', 'then', 'as', 'where', 'to', 'those', 'our', 'into', 'his', 'again', \"needn't\", \"weren't\", 'yours', 'you', 'will', 's', 'does', 't', 'won', \"that'll\", 'them', 'aren', 'couldn', 'but', 'haven', 'from', 'my', 'its', 'more', 'hers', 'wouldn', 'an', 'by', 'same', \"you'd\", 'which', 'can', 'am', 'was', \"should've\", 'her', 'mustn', 'm', 'having', 'this', 'ourselves', 'why', 'out', 'it', 'once', 'very', \"hadn't\", 're', 'so', 'yourselves', 'in', 'no', 'that', 'being', 'while', 'any', 'all', 'further', 'just', 'not', 'below', \"shouldn't\", 'at', 'doesn', 'd', 'ain', 'through', 'they', 'has', 'off', 'than', 'own', 'have', 'few', 'before', \"couldn't\", \"haven't\", 'he', 'him', 'mightn', 'shan', 'of', \"shan't\", 'there', 'only', 'she', 'myself', 'most', 'under', 'who', 'against'}\n"
          ]
        }
      ]
    },
    {
      "cell_type": "code",
      "source": [
        "#Dependent variable\n",
        "Y=df.sentiment\n",
        "#Converting df.text from text to features using TF-IDF word embedding model(feature extraction)\n",
        "X=vectorizer.fit_transform(df.review)"
      ],
      "metadata": {
        "id": "LUfAFF7qCmXG"
      },
      "execution_count": 26,
      "outputs": []
    },
    {
      "cell_type": "code",
      "source": [
        "#Splitting data into train and test data set\n",
        "X_train,X_test,Y_train,Y_test=train_test_split(X,Y,test_size=0.3,random_state=42)\n",
        "\n",
        "print(\"Size of trainining dataset : \",(X_train.shape[0]))\n",
        "print(\"Size of testing dataset : \",(X_test.shape[0]))"
      ],
      "metadata": {
        "colab": {
          "base_uri": "https://localhost:8080/"
        },
        "id": "iX0q5fIeCtGh",
        "outputId": "c012aabf-6465-4ae7-b56d-82fc2f886ae8"
      },
      "execution_count": 27,
      "outputs": [
        {
          "output_type": "stream",
          "name": "stdout",
          "text": [
            "Size of trainining dataset :  35000\n",
            "Size of testing dataset :  15000\n"
          ]
        }
      ]
    },
    {
      "cell_type": "code",
      "source": [
        "model = LogisticRegression()\n",
        "model.fit(X_train,Y_train)"
      ],
      "metadata": {
        "colab": {
          "base_uri": "https://localhost:8080/"
        },
        "id": "LKIWMMxDDFbl",
        "outputId": "48b791db-a8ac-48d6-f3d6-143c6c849e63"
      },
      "execution_count": 28,
      "outputs": [
        {
          "output_type": "execute_result",
          "data": {
            "text/plain": [
              "LogisticRegression()"
            ]
          },
          "metadata": {},
          "execution_count": 28
        }
      ]
    },
    {
      "cell_type": "code",
      "source": [
        "#Training score of our training model\n",
        "model.score(X_train,Y_train)"
      ],
      "metadata": {
        "colab": {
          "base_uri": "https://localhost:8080/"
        },
        "id": "DmbRSUAaDv9z",
        "outputId": "78924ec8-d89a-489f-8fc3-e11b65287dc4"
      },
      "execution_count": 29,
      "outputs": [
        {
          "output_type": "execute_result",
          "data": {
            "text/plain": [
              "0.9298857142857143"
            ]
          },
          "metadata": {},
          "execution_count": 29
        }
      ]
    },
    {
      "cell_type": "code",
      "source": [
        "#Predict sentiments of test data using our trained model:\n",
        "prediction_test = model.predict(X_test)\n",
        "print(prediction_test)"
      ],
      "metadata": {
        "colab": {
          "base_uri": "https://localhost:8080/"
        },
        "id": "rw1UAWrFESBs",
        "outputId": "6f26e9cb-39e1-4b7b-e5a4-cd5be215f660"
      },
      "execution_count": 30,
      "outputs": [
        {
          "output_type": "stream",
          "name": "stdout",
          "text": [
            "['negative' 'positive' 'negative' ... 'negative' 'positive' 'positive']\n"
          ]
        }
      ]
    },
    {
      "cell_type": "code",
      "source": [
        "#Confusion matrix\n",
        "print(\"Confusion Matrix:\")\n",
        "mat=confusion_matrix(Y_test, prediction_test)\n",
        "\n",
        "group_names = ['True Neg','False Pos','False Neg','True Pos']\n",
        "group_counts = [\"{0:0.0f}\".format(value) for value in mat.flatten()]\n",
        "group_percentages = [\"{0:.2%}\".format(value) for value in mat.flatten()/np.sum(mat)]\n",
        "labels = [f\"{v1}\\n{v2}\\n{v3}\" for v1, v2, v3 in zip(group_names,group_counts,group_percentages)]\n",
        "labels = np.asarray(labels).reshape(2,2)\n",
        "sns.heatmap(mat, annot=labels, fmt='', cmap='Blues')"
      ],
      "metadata": {
        "colab": {
          "base_uri": "https://localhost:8080/",
          "height": 300
        },
        "id": "FAR2cFBdEVdd",
        "outputId": "750d8c71-ce95-4fdd-aa2f-8e1b1707e1ed"
      },
      "execution_count": 31,
      "outputs": [
        {
          "output_type": "stream",
          "name": "stdout",
          "text": [
            "Confusion Matrix:\n"
          ]
        },
        {
          "output_type": "execute_result",
          "data": {
            "text/plain": [
              "<matplotlib.axes._subplots.AxesSubplot at 0x7f037f294550>"
            ]
          },
          "metadata": {},
          "execution_count": 31
        },
        {
          "output_type": "display_data",
          "data": {
            "image/png": "[encoded data removed]",
            "text/plain": [
              "<Figure size 432x288 with 2 Axes>"
            ]
          },
          "metadata": {
            "needs_background": "light"
          }
        }
      ]
    },
    {
      "cell_type": "code",
      "source": [
        "#Parameters for testing the performance of our model:\n",
        "print(\"Classification report :\")\n",
        "print(classification_report(Y_test,prediction_test))"
      ],
      "metadata": {
        "colab": {
          "base_uri": "https://localhost:8080/"
        },
        "id": "J_0SdGQmEZ40",
        "outputId": "8d8cedc0-11c6-4a70-f971-eb2b1e5db269"
      },
      "execution_count": 32,
      "outputs": [
        {
          "output_type": "stream",
          "name": "stdout",
          "text": [
            "Classification report :\n",
            "              precision    recall  f1-score   support\n",
            "\n",
            "    negative       0.90      0.88      0.89      7411\n",
            "    positive       0.88      0.90      0.89      7589\n",
            "\n",
            "    accuracy                           0.89     15000\n",
            "   macro avg       0.89      0.89      0.89     15000\n",
            "weighted avg       0.89      0.89      0.89     15000\n",
            "\n"
          ]
        }
      ]
    },
    {
      "cell_type": "code",
      "source": [
        "#Accuracy or Testing score of our model\n",
        "print(metrics.accuracy_score(Y_test,prediction_test))"
      ],
      "metadata": {
        "colab": {
          "base_uri": "https://localhost:8080/"
        },
        "id": "tiOsh6K_Eekv",
        "outputId": "c6c55c77-e0c7-4ec7-ea9e-4de017bc7a9c"
      },
      "execution_count": 33,
      "outputs": [
        {
          "output_type": "stream",
          "name": "stdout",
          "text": [
            "0.8899333333333334\n"
          ]
        }
      ]
    }
  ]
}